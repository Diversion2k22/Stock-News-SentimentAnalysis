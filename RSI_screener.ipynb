{
 "cells": [
  {
   "cell_type": "code",
   "execution_count": 79,
   "id": "b1924324",
   "metadata": {},
   "outputs": [],
   "source": [
    "'''\n",
    "https://github.com/bbmusa\n",
    "'''\n",
    "from pandas_datareader import data as pdr\n",
    "from yahoo_fin import stock_info as si"
   ]
  },
  {
   "cell_type": "code",
   "execution_count": 2,
   "id": "01007125",
   "metadata": {},
   "outputs": [],
   "source": [
    "import pandas as pd"
   ]
  },
  {
   "cell_type": "code",
   "execution_count": 3,
   "id": "54d7fff5",
   "metadata": {},
   "outputs": [],
   "source": [
    "import numpy as np"
   ]
  },
  {
   "cell_type": "code",
   "execution_count": 7,
   "id": "0946f5b1",
   "metadata": {},
   "outputs": [],
   "source": [
    "tickers = si.tickers_nifty50()"
   ]
  },
  {
   "cell_type": "code",
   "execution_count": 17,
   "id": "d8a80040",
   "metadata": {},
   "outputs": [],
   "source": [
    "tickers.remove('MM.NS')"
   ]
  },
  {
   "cell_type": "code",
   "execution_count": 72,
   "id": "18613c5e",
   "metadata": {},
   "outputs": [],
   "source": [
    "start_date = '2021-11-10'\n",
    "end_date = '2022-02-14'"
   ]
  },
  {
   "cell_type": "code",
   "execution_count": 73,
   "id": "5d159512",
   "metadata": {},
   "outputs": [],
   "source": [
    "'''\n",
    "J. Welles Wilder'RSI, Indicator simply find blue chip gold mines for you.\n",
    "'''\n",
    "def download_all_stock_data(all_stock_symbols, start_date, end_date):\n",
    "    def download_stock_data(single_symbol):\n",
    "        print(' Downloading '+single_symbol+' data ')\n",
    "#       try:\n",
    "        tmp1=pdr.get_data_yahoo(single_symbol,start=start_date,end=end_date)\n",
    "#       except KeyError:\n",
    "#            pass \n",
    "        return(tmp1)\n",
    "    downloaded_data=map(download_stock_data,all_stock_symbols)\n",
    "    return(pd.concat(downloaded_data,keys=all_stock_symbols, names=['Ticker','Date']))        \n"
   ]
  },
  {
   "cell_type": "code",
   "execution_count": 74,
   "id": "8401345d",
   "metadata": {},
   "outputs": [
    {
     "name": "stdout",
     "output_type": "stream",
     "text": [
      " Downloading BAJAJ-AUTO.NS data \n",
      " Downloading BAJAJFINSV.NS data \n",
      " Downloading BAJFINANCE.NS data \n",
      " Downloading BHARTIARTL.NS data \n",
      " Downloading BRITANNIA.NS data \n",
      " Downloading CIPLA.NS data \n",
      " Downloading COALINDIA.NS data \n",
      " Downloading GRASIM.NS data \n",
      " Downloading HDFCLIFE.NS data \n",
      " Downloading HEROMOTOCO.NS data \n",
      " Downloading HINDALCO.NS data \n",
      " Downloading ICICIBANK.NS data \n",
      " Downloading INDUSINDBK.NS data \n",
      " Downloading ITC.NS data \n",
      " Downloading KOTAKBANK.NS data \n",
      " Downloading LT.NS data \n",
      " Downloading MARUTI.NS data \n",
      " Downloading NESTLEIND.NS data \n",
      " Downloading NTPC.NS data \n",
      " Downloading ONGC.NS data \n",
      " Downloading RELIANCE.NS data \n",
      " Downloading SHREECEM.NS data \n",
      " Downloading TATACONSUM.NS data \n",
      " Downloading TATASTEEL.NS data \n",
      " Downloading TCS.NS data \n",
      " Downloading TECHM.NS data \n",
      " Downloading TITAN.NS data \n",
      " Downloading ULTRACEMCO.NS data \n",
      " Downloading WIPRO.NS data \n"
     ]
    }
   ],
   "source": [
    "stock_data=download_all_stock_data(tickers, start_date, end_date)\n",
    "fileName = 'downloadedData.pkl'\n",
    "stock_data.to_pickle(fileName)"
   ]
  },
  {
   "cell_type": "code",
   "execution_count": 80,
   "id": "f9ead121",
   "metadata": {},
   "outputs": [],
   "source": [
    "'''\n",
    "RSI = 100-{100/(1+RS)}\n",
    "RS= Average gain/Average Loss\n",
    "\n",
    "This rsi is based on 14 periods which means:\n",
    "+ first avrage gain = sum of gains over the 14 periods / 14\n",
    "+ first avrage loss = sum of loss over the 14 periods / 14\n",
    "'''\n",
    "\n",
    "def compute_RSI(data,period_RSI):\n",
    "     \n",
    "    differencePrice = data['Close'].diff()\n",
    "    differencePriceValues=differencePrice.values\n",
    " \n",
    "    positive_differences=0\n",
    "    negative_differences=0\n",
    "    current_average_positive=0\n",
    "    current_average_negative=0\n",
    "    price_index=0\n",
    "    RSI=[]\n",
    " \n",
    "     \n",
    "    for difference in differencePriceValues[1:]:\n",
    "     \n",
    "        if difference>0:\n",
    "            positive_difference=difference\n",
    "            negative_difference=0                \n",
    "        if difference<0:\n",
    "            negative_difference=np.abs(difference)\n",
    "            positive_difference=0\n",
    "        if difference==0:\n",
    "            negative_difference=0\n",
    "            positive_difference=0\n",
    "            \n",
    "        if (price_index<period_RSI):\n",
    "         \n",
    "            current_average_positive=current_average_positive+(1/period_RSI)*positive_difference\n",
    "            current_average_negative=current_average_negative+(1/period_RSI)*negative_difference\n",
    "               \n",
    "            if(price_index==(period_RSI-1)):\n",
    "                if current_average_negative!=0:\n",
    "                    RSI.append(100 - 100/(1+(current_average_positive/current_average_negative)))           \n",
    "                else:\n",
    "                    RSI.append(100)       \n",
    "        else:\n",
    "         \n",
    "            current_average_positive=((period_RSI-1)*current_average_positive+positive_difference)/(period_RSI)\n",
    "            current_average_negative=((period_RSI-1)*current_average_negative+negative_difference)/(period_RSI)\n",
    "            if current_average_negative!=0:\n",
    "                RSI.append(100 - 100/(1+(current_average_positive/current_average_negative)))   \n",
    "            else:\n",
    "                RSI.append(100)\n",
    "             \n",
    "        price_index=price_index+1    \n",
    " \n",
    "     \n",
    "    RSI_series=pd.Series(data=RSI,index=differencePrice.index[period_RSI:])\n",
    "    return(RSI_series)"
   ]
  },
  {
   "cell_type": "code",
   "execution_count": 76,
   "id": "b5af2a09",
   "metadata": {},
   "outputs": [
    {
     "name": "stderr",
     "output_type": "stream",
     "text": [
      "/tmp/ipykernel_40539/1017764305.py:1: DeprecationWarning: The default dtype for empty Series will be 'object' instead of 'float64' in a future version. Specify a dtype explicitly to silence this warning.\n",
      "  RSI_all_ticker=pd.Series(index=tickers)\n"
     ]
    },
    {
     "data": {
      "text/plain": [
       "<AxesSubplot:>"
      ]
     },
     "execution_count": 76,
     "metadata": {},
     "output_type": "execute_result"
    },
    {
     "data": {
      "image/png": "[encoded data removed]",
      "text/plain": [
       "<Figure size 864x864 with 1 Axes>"
      ]
     },
     "metadata": {
      "needs_background": "light"
     },
     "output_type": "display_data"
    }
   ],
   "source": [
    "RSI_all_ticker=pd.Series(index=tickers)\n",
    " \n",
    "for stock_symbol in tickers:\n",
    "    test1=compute_RSI(stock_data.loc[stock_symbol],28)\n",
    "    RSI_all_ticker.loc[stock_symbol]=test1[-1]\n",
    "     \n",
    "RSI_all_ticker.plot(figsize=(12,12))"
   ]
  },
  {
   "cell_type": "code",
   "execution_count": 77,
   "id": "6c312ca4",
   "metadata": {},
   "outputs": [
    {
     "data": {
      "text/plain": [
       "'HDFCLIFE.NS'"
      ]
     },
     "execution_count": 77,
     "metadata": {},
     "output_type": "execute_result"
    }
   ],
   "source": [
    "RSI_all_ticker.idxmin()\n"
   ]
  },
  {
   "cell_type": "code",
   "execution_count": 78,
   "id": "7934cbc4",
   "metadata": {},
   "outputs": [
    {
     "data": {
      "text/plain": [
       "HDFCLIFE.NS      29.496021\n",
       "WIPRO.NS         34.831050\n",
       "NESTLEIND.NS     35.940454\n",
       "SHREECEM.NS      36.162869\n",
       "TECHM.NS         37.656497\n",
       "TATACONSUM.NS    39.514315\n",
       "KOTAKBANK.NS     39.781453\n",
       "ULTRACEMCO.NS    39.879487\n",
       "LT.NS            40.671373\n",
       "BRITANNIA.NS     40.870485\n",
       "BAJAJFINSV.NS    42.034292\n",
       "BAJFINANCE.NS    42.241286\n",
       "GRASIM.NS        42.353714\n",
       "ICICIBANK.NS     42.962980\n",
       "RELIANCE.NS      43.513393\n",
       "BHARTIARTL.NS    44.819363\n",
       "TITAN.NS         45.799986\n",
       "ITC.NS           46.280899\n",
       "NTPC.NS          47.422181\n",
       "BAJAJ-AUTO.NS    48.575491\n",
       "TATASTEEL.NS     48.862379\n",
       "HEROMOTOCO.NS    49.434448\n",
       "INDUSINDBK.NS    49.577580\n",
       "COALINDIA.NS     50.155454\n",
       "TCS.NS           50.736754\n",
       "ONGC.NS          53.628967\n",
       "MARUTI.NS        54.082493\n",
       "CIPLA.NS         54.877222\n",
       "HINDALCO.NS      57.583908\n",
       "dtype: float64"
      ]
     },
     "execution_count": 78,
     "metadata": {},
     "output_type": "execute_result"
    }
   ],
   "source": [
    "'''\n",
    "we consider A perticular stock is overbought if RSI above 70 and \n",
    "over sold below 30\n",
    "\n",
    "generally people takes RSI<40 as a Rocket\n",
    "'''\n",
    "RSI_all_ticker.nsmallest(80)"
   ]
  },
  {
   "cell_type": "code",
   "execution_count": null,
   "id": "8cfff1ab",
   "metadata": {},
   "outputs": [],
   "source": []
  },
  {
   "cell_type": "code",
   "execution_count": null,
   "id": "d03d002d",
   "metadata": {},
   "outputs": [],
   "source": []
  }
 ],
 "metadata": {
  "kernelspec": {
   "display_name": "Python 3 (ipykernel)",
   "language": "python",
   "name": "python3"
  },
  "language_info": {
   "codemirror_mode": {
    "name": "ipython",
    "version": 3
   },
   "file_extension": ".py",
   "mimetype": "text/x-python",
   "name": "python",
   "nbconvert_exporter": "python",
   "pygments_lexer": "ipython3",
   "version": "3.9.7"
  }
 },
 "nbformat": 4,
 "nbformat_minor": 5
}
